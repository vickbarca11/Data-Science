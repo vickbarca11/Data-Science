{
 "cells": [
  {
   "cell_type": "markdown",
   "id": "4cf3f899-49f4-499c-815f-ae97b556bdf6",
   "metadata": {},
   "source": [
    "# Data Science Tools and Ecosystem"
   ]
  },
  {
   "cell_type": "markdown",
   "id": "393637c4-467b-4edb-bd25-d43b90b9a32a",
   "metadata": {},
   "source": [
    "In this notebook, Data Science Tools and Ecosystem are summarized."
   ]
  },
  {
   "cell_type": "markdown",
   "id": "03b23163-6c11-4c2c-bebf-a5e26f8d4cc9",
   "metadata": {},
   "source": [
    "**Objectives:**\n",
    "+ List popular languages for Data Science\n",
    "+ List popular libraries for Data Science\n",
    "+ List popular Data Science Tools\n",
    "+ Examples of arithmetic expressions\n",
    "+ Converting minutes into hours"
   ]
  },
  {
   "cell_type": "markdown",
   "id": "fd9ea4d7-20fc-4f43-a906-8b82c72d9ba7",
   "metadata": {},
   "source": [
    "Some of the popular languages that Data Scientists use are:\n",
    "+ Python\n",
    "+ R\n",
    "+ SQL\n",
    "+ Java\n",
    "+ Scala\n",
    "+ C++\n",
    "+ JavaScript\n",
    "+ Julia"
   ]
  },
  {
   "cell_type": "markdown",
   "id": "0ea03af6-45d8-45d9-b2f4-eaeb151eff5d",
   "metadata": {},
   "source": [
    "Some of the commonly used libraries used by Data Scientists include:\r",
    "+ Pandas\n",
    "+ NumPy\n",
    "+ Matplotlib\n",
    "+ Seaborn\n",
    "+ Scikit-learn\n",
    "+ Keras\n",
    "+ TensorFlow\n",
    "+ PyTorch\n",
    "+ Apache Spark\n"
   ]
  },
  {
   "cell_type": "markdown",
   "id": "404fcaee-0416-407c-86c5-5c1b92349f9c",
   "metadata": {},
   "source": [
    "| Data Science Tools |\n",
    "| ------------ | \n",
    "| Jupyter |  \n",
    "| Visual Studio |\n",
    "| RStudio |\n"
   ]
  },
  {
   "cell_type": "markdown",
   "id": "a03f2d88-ccd7-4f92-839c-6a42cb3dbd1c",
   "metadata": {},
   "source": [
    "### Below are a few examples of evaluating arithmetic expressions in Python"
   ]
  },
  {
   "cell_type": "code",
   "execution_count": 19,
   "id": "cccf16f5-3949-4562-b89b-750f88871f99",
   "metadata": {},
   "outputs": [
    {
     "data": {
      "text/plain": [
       "17"
      ]
     },
     "execution_count": 19,
     "metadata": {},
     "output_type": "execute_result"
    }
   ],
   "source": [
    "# This a simple arithmetic expression to mutiply then add integers.\n",
    "(3*4)+5"
   ]
  },
  {
   "cell_type": "code",
   "execution_count": 29,
   "id": "b1302d4c-3d8c-4463-ae10-27304b5f6efe",
   "metadata": {},
   "outputs": [
    {
     "data": {
      "text/plain": [
       "3.3333333333333335"
      ]
     },
     "execution_count": 29,
     "metadata": {},
     "output_type": "execute_result"
    }
   ],
   "source": [
    "# This will convert 200 minutes to hours by diving by 60.\n",
    "min = 200\n",
    "hours = 200/60\n",
    "hours"
   ]
  },
  {
   "cell_type": "markdown",
   "id": "a378bd3b-0b6b-4c08-954e-5c9f96dc512d",
   "metadata": {},
   "source": [
    "## Author\n",
    "Victor Chang"
   ]
  },
  {
   "cell_type": "code",
   "execution_count": null,
   "id": "5d4ed3d5-6a1e-44f4-9c7a-a948d1449001",
   "metadata": {},
   "outputs": [],
   "source": []
  }
 ],
 "metadata": {
  "kernelspec": {
   "display_name": "Python 3 (ipykernel)",
   "language": "python",
   "name": "python3"
  },
  "language_info": {
   "codemirror_mode": {
    "name": "ipython",
    "version": 3
   },
   "file_extension": ".py",
   "mimetype": "text/x-python",
   "name": "python",
   "nbconvert_exporter": "python",
   "pygments_lexer": "ipython3",
   "version": "3.12.4"
  }
 },
 "nbformat": 4,
 "nbformat_minor": 5
}
